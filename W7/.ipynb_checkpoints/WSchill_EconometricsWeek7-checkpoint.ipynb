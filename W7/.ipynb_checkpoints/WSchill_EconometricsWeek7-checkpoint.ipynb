{
 "cells": [
  {
   "cell_type": "markdown",
   "metadata": {},
   "source": [
    "## Econometrics Week7\n",
    "\n",
    "### William Schill\n",
    "\n",
    "__Final Assignement. Developed in Python and code hidden with jupyterutils. Code version can be submitted as well.__\n",
    "\n",
    "__Each portion is separated into \"PART X\" and the reponses are in bold below the hidden or unhidden code portions.__"
   ]
  },
  {
   "cell_type": "code",
   "execution_count": 1,
   "metadata": {
    "collapsed": false
   },
   "outputs": [
    {
     "name": "stderr",
     "output_type": "stream",
     "text": [
      "C:\\Python\\Anaconda3\\lib\\site-packages\\statsmodels\\compat\\pandas.py:56: FutureWarning: The pandas.core.datetools module is deprecated and will be removed in a future version. Please use the pandas.tseries module instead.\n",
      "  from pandas.core import datetools\n"
     ]
    }
   ],
   "source": [
    "import numpy as np\n",
    "import pandas as pd\n",
    "from matplotlib.pyplot import *\n",
    "import statsmodels.api as sma\n",
    "import statsmodels.stats as sms\n",
    "import statsmodels.tsa.stattools as smts\n",
    "import statsmodels.discrete.discrete_model as sdd\n",
    "import seaborn as sns\n",
    "import sklearn as skl\n",
    "%matplotlib inline\n",
    "\n",
    "import warnings\n",
    "warnings.filterwarnings('ignore')"
   ]
  },
  {
   "cell_type": "code",
   "execution_count": 2,
   "metadata": {
    "collapsed": false
   },
   "outputs": [
    {
     "ename": "ModuleNotFoundError",
     "evalue": "No module named 'dfast'",
     "output_type": "error",
     "traceback": [
      "\u001b[0;31m---------------------------------------------------------------------------\u001b[0m",
      "\u001b[0;31mModuleNotFoundError\u001b[0m                       Traceback (most recent call last)",
      "\u001b[0;32m<ipython-input-2-397b53c6abd1>\u001b[0m in \u001b[0;36m<module>\u001b[0;34m()\u001b[0m\n\u001b[0;32m----> 1\u001b[0;31m \u001b[1;32mfrom\u001b[0m \u001b[0mdfast\u001b[0m\u001b[1;33m.\u001b[0m\u001b[0mjupyterutils\u001b[0m\u001b[1;33m.\u001b[0m\u001b[0mtogglecode\u001b[0m \u001b[1;32mimport\u001b[0m \u001b[0mhideCode\u001b[0m\u001b[1;33m\u001b[0m\u001b[0m\n\u001b[0m\u001b[1;32m      2\u001b[0m \u001b[0mhideCode\u001b[0m\u001b[1;33m(\u001b[0m\u001b[1;33m)\u001b[0m\u001b[1;33m\u001b[0m\u001b[0m\n",
      "\u001b[0;31mModuleNotFoundError\u001b[0m: No module named 'dfast'"
     ]
    }
   ],
   "source": [
    "from dfast.jupyterutils.togglecode import hideCode\n",
    "hideCode()"
   ]
  },
  {
   "cell_type": "markdown",
   "metadata": {},
   "source": [
    "Bring in the data and check it out. Then fully shift (lag) the data for future use and print to confirm."
   ]
  },
  {
   "cell_type": "code",
   "execution_count": 3,
   "metadata": {
    "collapsed": false
   },
   "outputs": [
    {
     "data": {
      "text/html": [
       "<div>\n",
       "<style>\n",
       "    .dataframe thead tr:only-child th {\n",
       "        text-align: right;\n",
       "    }\n",
       "\n",
       "    .dataframe thead th {\n",
       "        text-align: left;\n",
       "    }\n",
       "\n",
       "    .dataframe tbody tr th {\n",
       "        vertical-align: top;\n",
       "    }\n",
       "</style>\n",
       "<table border=\"1\" class=\"dataframe\">\n",
       "  <thead>\n",
       "    <tr style=\"text-align: right;\">\n",
       "      <th></th>\n",
       "      <th>GDP</th>\n",
       "      <th>GDPIMPR</th>\n",
       "      <th>LOGGDP</th>\n",
       "      <th>GrowthRate</th>\n",
       "      <th>li1</th>\n",
       "      <th>li2</th>\n",
       "      <th>T</th>\n",
       "    </tr>\n",
       "    <tr>\n",
       "      <th>Date</th>\n",
       "      <th></th>\n",
       "      <th></th>\n",
       "      <th></th>\n",
       "      <th></th>\n",
       "      <th></th>\n",
       "      <th></th>\n",
       "      <th></th>\n",
       "    </tr>\n",
       "  </thead>\n",
       "  <tbody>\n",
       "    <tr>\n",
       "      <th>1950Q1</th>\n",
       "      <td>94.300</td>\n",
       "      <td>NaN</td>\n",
       "      <td>4.546481</td>\n",
       "      <td>NaN</td>\n",
       "      <td>0</td>\n",
       "      <td>0</td>\n",
       "      <td>0</td>\n",
       "    </tr>\n",
       "    <tr>\n",
       "      <th>1950Q2</th>\n",
       "      <td>95.200</td>\n",
       "      <td>1.0</td>\n",
       "      <td>4.555980</td>\n",
       "      <td>0.009499</td>\n",
       "      <td>0</td>\n",
       "      <td>0</td>\n",
       "      <td>1</td>\n",
       "    </tr>\n",
       "    <tr>\n",
       "      <th>1950Q3</th>\n",
       "      <td>97.663</td>\n",
       "      <td>1.0</td>\n",
       "      <td>4.581523</td>\n",
       "      <td>0.025543</td>\n",
       "      <td>3</td>\n",
       "      <td>1</td>\n",
       "      <td>2</td>\n",
       "    </tr>\n",
       "  </tbody>\n",
       "</table>\n",
       "</div>"
      ],
      "text/plain": [
       "           GDP  GDPIMPR    LOGGDP  GrowthRate  li1  li2  T\n",
       "Date                                                      \n",
       "1950Q1  94.300      NaN  4.546481         NaN    0    0  0\n",
       "1950Q2  95.200      1.0  4.555980    0.009499    0    0  1\n",
       "1950Q3  97.663      1.0  4.581523    0.025543    3    1  2"
      ]
     },
     "execution_count": 3,
     "metadata": {},
     "output_type": "execute_result"
    }
   ],
   "source": [
    "path = ''\n",
    "df = pd.read_excel(path+'data.xls', index_col=0)\n",
    "df.head(3)"
   ]
  },
  {
   "cell_type": "code",
   "execution_count": 4,
   "metadata": {
    "collapsed": false
   },
   "outputs": [],
   "source": [
    "## FULLY SHIFT AND LAG THE DATA SET HERE\n",
    "full = pd.concat([df, df.shift(1), df.shift(2)], axis=1, join='outer')\n",
    "cols = []\n",
    "for lg in range(0,3):\n",
    "    for i in df.columns:\n",
    "        if lg==0:\n",
    "            cols.append(i)\n",
    "        else:\n",
    "            cols.append(i+'(-'+str(lg)+')')\n",
    "\n",
    "full.columns = cols"
   ]
  },
  {
   "cell_type": "markdown",
   "metadata": {},
   "source": [
    "Fully lagged dataframe of variables."
   ]
  },
  {
   "cell_type": "code",
   "execution_count": 5,
   "metadata": {
    "collapsed": false
   },
   "outputs": [
    {
     "name": "stdout",
     "output_type": "stream",
     "text": [
      "           GDP  GDPIMPR    LOGGDP  GrowthRate  li1  li2  T  GDP(-1)  \\\n",
      "Date                                                                  \n",
      "1950Q1  94.300      NaN  4.546481         NaN    0    0  0      NaN   \n",
      "1950Q2  95.200      1.0  4.555980    0.009499    0    0  1     94.3   \n",
      "1950Q3  97.663      1.0  4.581523    0.025543    3    1  2     95.2   \n",
      "\n",
      "        GDPIMPR(-1)  LOGGDP(-1)  ...    li1(-1)  li2(-1)  T(-1)  GDP(-2)  \\\n",
      "Date                             ...                                       \n",
      "1950Q1          NaN         NaN  ...        NaN      NaN    NaN      NaN   \n",
      "1950Q2          NaN    4.546481  ...        0.0      0.0    0.0      NaN   \n",
      "1950Q3          1.0    4.555980  ...        0.0      0.0    1.0     94.3   \n",
      "\n",
      "        GDPIMPR(-2)  LOGGDP(-2)  GrowthRate(-2)  li1(-2)  li2(-2)  T(-2)  \n",
      "Date                                                                      \n",
      "1950Q1          NaN         NaN             NaN      NaN      NaN    NaN  \n",
      "1950Q2          NaN         NaN             NaN      NaN      NaN    NaN  \n",
      "1950Q3          NaN    4.546481             NaN      0.0      0.0    0.0  \n",
      "\n",
      "[3 rows x 21 columns]\n"
     ]
    }
   ],
   "source": [
    "print(full.head(3))"
   ]
  },
  {
   "cell_type": "markdown",
   "metadata": {},
   "source": [
    "### PART A - Logliklihood Ratio Test"
   ]
  },
  {
   "cell_type": "code",
   "execution_count": 6,
   "metadata": {
    "collapsed": false
   },
   "outputs": [
    {
     "name": "stdout",
     "output_type": "stream",
     "text": [
      "Optimization terminated successfully.\n",
      "         Current function value: 0.559076\n",
      "         Iterations 5\n",
      "                         Results: Logit\n",
      "=================================================================\n",
      "Model:              Logit            Pseudo R-squared: 0.122     \n",
      "Dependent Variable: GDPIMPR          AIC:              274.3565  \n",
      "Date:               2017-12-16 22:39 BIC:              284.7984  \n",
      "No. Observations:   240              Log-Likelihood:   -134.18   \n",
      "Df Model:           2                LL-Null:          -152.76   \n",
      "Df Residuals:       237              LLR p-value:      8.4833e-09\n",
      "Converged:          1.0000           Scale:            1.0000    \n",
      "No. Iterations:     5.0000                                       \n",
      "-------------------------------------------------------------------\n",
      "           Coef.    Std.Err.      z      P>|z|     [0.025    0.975]\n",
      "-------------------------------------------------------------------\n",
      "const      0.7288     0.1536    4.7454   0.0000    0.4278    1.0298\n",
      "li1(-1)   -0.3719     0.0727   -5.1176   0.0000   -0.5143   -0.2294\n",
      "li2(-1)   -0.1203     0.0377   -3.1936   0.0014   -0.1941   -0.0465\n",
      "=================================================================\n",
      "\n"
     ]
    }
   ],
   "source": [
    "try:\n",
    "    del x, y\n",
    "except:\n",
    "    pass\n",
    "\n",
    "start = '1951Q1'\n",
    "end = '2010Q4'\n",
    "\n",
    "x = full[['li1(-1)','li2(-1)']]\n",
    "xA = x[(x.index>=start)&(x.index<=end)]\n",
    "\n",
    "y = full[['GDPIMPR']]\n",
    "yA = y[(y.index>=start)&(y.index<=end)]\n",
    "\n",
    "modA = sma.Logit(endog=yA, exog=sma.add_constant(xA))\n",
    "fitA = modA.fit()\n",
    "print(fitA.summary2())"
   ]
  },
  {
   "cell_type": "code",
   "execution_count": 7,
   "metadata": {
    "collapsed": false
   },
   "outputs": [
    {
     "name": "stdout",
     "output_type": "stream",
     "text": [
      "Optimization terminated successfully.\n",
      "         Current function value: 0.582277\n",
      "         Iterations 5\n",
      "Optimization terminated successfully.\n",
      "         Current function value: 0.623002\n",
      "         Iterations 5\n"
     ]
    }
   ],
   "source": [
    "fitA_Cli1 =  sma.Logit(endog=yA, exog=sma.add_constant(xA[['li1(-1)']])).fit()\n",
    "fitA_Cli2 =  sma.Logit(endog=yA, exog=sma.add_constant(xA[['li2(-1)']])).fit()"
   ]
  },
  {
   "cell_type": "markdown",
   "metadata": {},
   "source": [
    "Build the model from the data and match with the output on the test. Set up each specific model fit."
   ]
  },
  {
   "cell_type": "code",
   "execution_count": 8,
   "metadata": {
    "collapsed": false
   },
   "outputs": [],
   "source": [
    "loglikA = np.reshape(np.array([fitA.llnull, fitA_Cli1.llf, fitA_Cli2.llf, fitA.llf]), (4,1))\n",
    "\n",
    "loglik = np.reshape(np.array([-152.763, -139.747, -149.521, -134.178]), (4,1))\n",
    "lldf = pd.DataFrame(loglik, index=['Const','Const+li1','Const+li2','All'], columns=['Loglikelihood'])"
   ]
  },
  {
   "cell_type": "code",
   "execution_count": 9,
   "metadata": {
    "collapsed": false
   },
   "outputs": [
    {
     "name": "stdout",
     "output_type": "stream",
     "text": [
      "The loglikelihood estimations are below. \n",
      " \n",
      "Loglikelihood:\n",
      " [[-152.76340039]\n",
      " [-139.74657981]\n",
      " [-149.52046643]\n",
      " [-134.17823347]]\n"
     ]
    }
   ],
   "source": [
    "print(\"The loglikelihood estimations are below. \\n \")\n",
    "print(\"Loglikelihood:\\n\",  loglikA)\n",
    "# print \"Loglikelihood:\\n\", \"\\n\", loglik, \"\\n \\n LL Calc\\n\", loglikA"
   ]
  },
  {
   "cell_type": "code",
   "execution_count": 10,
   "metadata": {
    "collapsed": false
   },
   "outputs": [
    {
     "name": "stdout",
     "output_type": "stream",
     "text": [
      "P-Values for Loglikelihood Comparisons of Model \n",
      "\n"
     ]
    },
    {
     "data": {
      "text/html": [
       "<div>\n",
       "<style>\n",
       "    .dataframe thead tr:only-child th {\n",
       "        text-align: right;\n",
       "    }\n",
       "\n",
       "    .dataframe thead th {\n",
       "        text-align: left;\n",
       "    }\n",
       "\n",
       "    .dataframe tbody tr th {\n",
       "        vertical-align: top;\n",
       "    }\n",
       "</style>\n",
       "<table border=\"1\" class=\"dataframe\">\n",
       "  <thead>\n",
       "    <tr style=\"text-align: right;\">\n",
       "      <th></th>\n",
       "      <th>Const+li1</th>\n",
       "      <th>Const+li2</th>\n",
       "      <th>All Params</th>\n",
       "    </tr>\n",
       "  </thead>\n",
       "  <tbody>\n",
       "    <tr>\n",
       "      <th>vs Null</th>\n",
       "      <td>0.0</td>\n",
       "      <td>0.01087</td>\n",
       "      <td>0.0</td>\n",
       "    </tr>\n",
       "  </tbody>\n",
       "</table>\n",
       "</div>"
      ],
      "text/plain": [
       "         Const+li1  Const+li2  All Params\n",
       "vs Null        0.0    0.01087         0.0"
      ]
     },
     "execution_count": 10,
     "metadata": {},
     "output_type": "execute_result"
    }
   ],
   "source": [
    "from scipy.stats import chisqprob\n",
    "def likelihood_ratio(llmin, llmax):\n",
    "    return(2.0*(llmax-llmin))\n",
    "\n",
    "LR = np.zeros((len(loglikA),len(loglikA)))\n",
    "dof = LR.copy()\n",
    "for i in range(4):\n",
    "    for j in range(4):\n",
    "        LR[i,j] = likelihood_ratio(loglikA[i],loglikA[j])\n",
    "        if i==j:\n",
    "            dof[i,j] = 0\n",
    "        elif np.abs(j-i)<3:\n",
    "            dof[i,j] = 1\n",
    "        else:\n",
    "            dof[i,j] = 2\n",
    "            \n",
    "# p = np.around(chisqprob(LR, dof), 3) # L2 has 1 DoF more than L1\n",
    "p = np.around(chisqprob(LR, dof), 5)\n",
    "pF = np.reshape(p[0,1:], (1,3))\n",
    "\n",
    "print(\"P-Values for Loglikelihood Comparisons of Model \\n\")\n",
    "pd.DataFrame(pF, columns = ['Const+li1','Const+li2','All Params'], \n",
    "                   index = ['vs Null'])\n"
   ]
  },
  {
   "cell_type": "markdown",
   "metadata": {},
   "source": [
    "__(a)__:\n",
    "\n",
    "__The matrix above reflects that the model is valid as all of the p-values are significant to thw 1% level with the Constant and li2 model being significant to the 5% level.__\n",
    "\n",
    "__Additionally, this can be confirmed by examing the llr_pvalue features of the statsmodels models as seen below:__\n"
   ]
  },
  {
   "cell_type": "code",
   "execution_count": 11,
   "metadata": {
    "collapsed": false
   },
   "outputs": [
    {
     "data": {
      "text/html": [
       "<div>\n",
       "<style>\n",
       "    .dataframe thead tr:only-child th {\n",
       "        text-align: right;\n",
       "    }\n",
       "\n",
       "    .dataframe thead th {\n",
       "        text-align: left;\n",
       "    }\n",
       "\n",
       "    .dataframe tbody tr th {\n",
       "        vertical-align: top;\n",
       "    }\n",
       "</style>\n",
       "<table border=\"1\" class=\"dataframe\">\n",
       "  <thead>\n",
       "    <tr style=\"text-align: right;\">\n",
       "      <th></th>\n",
       "      <th>Likelihood Ratio P-Values</th>\n",
       "    </tr>\n",
       "  </thead>\n",
       "  <tbody>\n",
       "    <tr>\n",
       "      <th>Const+li1</th>\n",
       "      <td>3.000000e-07</td>\n",
       "    </tr>\n",
       "    <tr>\n",
       "      <th>Const+li2</th>\n",
       "      <td>1.087350e-02</td>\n",
       "    </tr>\n",
       "    <tr>\n",
       "      <th>Full Model</th>\n",
       "      <td>0.000000e+00</td>\n",
       "    </tr>\n",
       "  </tbody>\n",
       "</table>\n",
       "</div>"
      ],
      "text/plain": [
       "            Likelihood Ratio P-Values\n",
       "Const+li1                3.000000e-07\n",
       "Const+li2                1.087350e-02\n",
       "Full Model               0.000000e+00"
      ]
     },
     "execution_count": 11,
     "metadata": {},
     "output_type": "execute_result"
    }
   ],
   "source": [
    "lrsma = np.array([fitA_Cli1.llr_pvalue, fitA_Cli2.llr_pvalue, fitA.llr_pvalue],ndmin=2)\n",
    "lrsm = pd.DataFrame(lrsma.T, columns=['Likelihood Ratio P-Values'])\n",
    "lrsm.index = ['Const+li1','Const+li2','Full Model']\n",
    "np.around(lrsm, 7)"
   ]
  },
  {
   "cell_type": "markdown",
   "metadata": {},
   "source": [
    "### PART B"
   ]
  },
  {
   "cell_type": "markdown",
   "metadata": {},
   "source": [
    "The cacluation for Mcfadden's is : Mcfaddens R^2 = 1 - LL_Model/LL_Null.\n"
   ]
  },
  {
   "cell_type": "code",
   "execution_count": 12,
   "metadata": {
    "collapsed": false
   },
   "outputs": [
    {
     "name": "stdout",
     "output_type": "stream",
     "text": [
      "Optimization terminated successfully.\n",
      "         Current function value: 0.540830\n",
      "         Iterations 6\n",
      "Optimization terminated successfully.\n",
      "         Current function value: 0.559076\n",
      "         Iterations 5\n",
      "Optimization terminated successfully.\n",
      "         Current function value: 0.558860\n",
      "         Iterations 5\n",
      "Optimization terminated successfully.\n",
      "         Current function value: 0.543106\n",
      "         Iterations 6\n",
      "Optimization terminated successfully.\n",
      "         Current function value: 0.543588\n",
      "         Iterations 6\n"
     ]
    }
   ],
   "source": [
    "x = full[['li1(-1)','li2(-1)','li1(-2)','li2(-2)']]\n",
    "xB = x[(x.index>=start)&(x.index<=end)]\n",
    "\n",
    "y = full[['GDPIMPR']]\n",
    "yB = y[(y.index>=start)&(y.index<=end)]\n",
    "\n",
    "modB = sma.Logit(endog=yB, exog=sma.add_constant(xB))\n",
    "fitB = modB.fit()\n",
    "\n",
    "fitB_Cl11l21 =  sma.Logit(endog=yB, exog=sma.add_constant(xB[['li1(-1)','li2(-1)']])).fit()\n",
    "fitB_Cl11l22 =  sma.Logit(endog=yB, exog=sma.add_constant(xB[['li1(-1)','li2(-2)']])).fit()\n",
    "fitB_Cl12l21 =  sma.Logit(endog=yB, exog=sma.add_constant(xB[['li1(-2)','li2(-1)']])).fit()\n",
    "fitB_Cl12l22 =  sma.Logit(endog=yB, exog=sma.add_constant(xB[['li1(-2)','li2(-2)']])).fit()\n",
    "\n",
    "## Doing it this way left us with different results than expected."
   ]
  },
  {
   "cell_type": "code",
   "execution_count": 15,
   "metadata": {
    "collapsed": false
   },
   "outputs": [
    {
     "name": "stdout",
     "output_type": "stream",
     "text": [
      "Log Likelihoods : \n",
      "    LL_null  LL_cl11l21  LL_cl11l22  LL_cl12l21  LL_cl12l22\n",
      "0 -152.763    -134.178    -134.126    -130.346    -130.461\n",
      "\n",
      " McFaddens R Squared : \n",
      "    LL_cl11l21  LL_cl11l22  LL_cl12l21  LL_cl12l22\n",
      "0    0.121659    0.121999    0.146744    0.145991\n"
     ]
    }
   ],
   "source": [
    "LL_null = -152.763\n",
    "LL_cl11l21 = -134.178\n",
    "LL_cl11l22 = -134.126\n",
    "LL_cl12l21 = -130.346\n",
    "LL_cl12l22 = -130.461\n",
    "\n",
    "LLB = pd.DataFrame(np.reshape(np.array([-152.763, -134.178, -134.126, -130.346, -130.461]),(1,5)))\n",
    "LLB.columns = ['LL_null','LL_cl11l21','LL_cl11l22','LL_cl12l21','LL_cl12l22']\n",
    "\n",
    "\n",
    "MR2 = pd.DataFrame(np.reshape(np.array([1.0 - LLB['LL_cl11l21']/LLB['LL_null'], \n",
    "                                        1.0 - LLB['LL_cl11l22']/LLB['LL_null'],\n",
    "                                       1.0 - LLB['LL_cl12l21']/LLB['LL_null'],\n",
    "                                       1.0 - LLB['LL_cl12l22']/LLB['LL_null']]),(1,4)))\n",
    "MR2.columns = ['LL_cl11l21','LL_cl11l22','LL_cl12l21','LL_cl12l22']\n",
    "\n",
    "print(\"Log Likelihoods : \\n\", LLB)\n",
    "print(\"\\n McFaddens R Squared : \\n\", MR2)"
   ]
  },
  {
   "cell_type": "markdown",
   "metadata": {
    "collapsed": false
   },
   "source": [
    "__(b)__:\n",
    "\n",
    "__Based on the calculated McFaddens R^2 above, the most optimal model would be to go with the $Constant + li1(-2) + li2(-1)$ model. But not by very much.__"
   ]
  },
  {
   "cell_type": "markdown",
   "metadata": {
    "collapsed": false
   },
   "source": [
    "### PART C\n",
    "\n",
    "Probability of economic growth over evaluation sample."
   ]
  },
  {
   "cell_type": "code",
   "execution_count": 16,
   "metadata": {
    "collapsed": false
   },
   "outputs": [
    {
     "name": "stdout",
     "output_type": "stream",
     "text": [
      "                         Results: Logit\n",
      "=================================================================\n",
      "Model:              Logit            Pseudo R-squared: 0.147     \n",
      "Dependent Variable: GDPIMPR          AIC:              266.6909  \n",
      "Date:               2017-12-17 01:26 BIC:              277.1328  \n",
      "No. Observations:   240              Log-Likelihood:   -130.35   \n",
      "Df Model:           2                LL-Null:          -152.76   \n",
      "Df Residuals:       237              LLR p-value:      1.8366e-10\n",
      "Converged:          1.0000           Scale:            1.0000    \n",
      "No. Iterations:     6.0000                                       \n",
      "-------------------------------------------------------------------\n",
      "           Coef.    Std.Err.      z      P>|z|     [0.025    0.975]\n",
      "-------------------------------------------------------------------\n",
      "const      0.7457     0.1573    4.7397   0.0000    0.4373    1.0540\n",
      "li1(-2)   -0.4287     0.0763   -5.6175   0.0000   -0.5783   -0.2791\n",
      "li2(-1)   -0.1312     0.0386   -3.3994   0.0007   -0.2068   -0.0556\n",
      "=================================================================\n",
      "\n"
     ]
    }
   ],
   "source": [
    "## The model was created above:\n",
    "## It should be noted that they do not accurately specify the time constraints for these models!!!!!\n",
    "print(fitB_Cl12l21.summary2())"
   ]
  },
  {
   "cell_type": "code",
   "execution_count": 17,
   "metadata": {
    "collapsed": false
   },
   "outputs": [
    {
     "name": "stdout",
     "output_type": "stream",
     "text": [
      "Prediction Realization Table: \n",
      "\n",
      "       yhat=0  yhat=1    Sum\n",
      "y=0  0.133333  0.2000   80.0\n",
      "y=1  0.104167  0.5625  160.0 \n",
      "\n",
      "Sums :\n",
      "yhat=0      0.2375\n",
      "yhat=1      0.7625\n",
      "Sum       240.0000\n",
      "dtype: float64 \n",
      "\n",
      "Hit Rate :\n",
      "0.695833333333\n"
     ]
    }
   ],
   "source": [
    "x = full[['li1(-2)','li2(-1)']]\n",
    "xC = x[x.index>end]\n",
    "\n",
    "predC = fitB_Cl12l21.predict(sma.add_constant(xC))\n",
    "predCTable = fitB_Cl12l21.pred_table(threshold=0.5)\n",
    "rtot = np.sum(predCTable,axis=1)\n",
    "tot = np.sum(rtot)\n",
    "\n",
    "predCPRT = pd.DataFrame(predCTable/tot)\n",
    "predCPRT.columns = ['yhat=0','yhat=1']\n",
    "predCPRT.index = ['y=0','y=1']\n",
    "\n",
    "predSum = pd.DataFrame(rtot)\n",
    "predSum.columns=['Sum']\n",
    "predSum.index = ['y=0','y=1']\n",
    "prt = pd.concat([predCPRT, predSum], axis=1, join='outer')\n",
    "\n",
    "\n",
    "print(\"Prediction Realization Table: \\n\")\n",
    "print(prt, \"\\n\")\n",
    "print(\"Sums :\")\n",
    "print(np.sum(prt,axis=0), \"\\n\")\n",
    "print(\"Hit Rate :\")\n",
    "print(prt.iloc[0,0] + prt.iloc[1,1])"
   ]
  },
  {
   "cell_type": "markdown",
   "metadata": {},
   "source": [
    "__(c): THE PREDICTION REALIZATION TABLE AND HIT RATE ARE PRINTED ABOVE.__\n",
    "\n",
    "__The hit rate is $69.58%$ and the probability of economic growth is approximately $76.25%$ in total.__\n",
    "\n",
    "__The hit rate represents the accuracy of the model. With 1 being that the model is increasing we are likely to continue to see economic growth.__"
   ]
  },
  {
   "cell_type": "markdown",
   "metadata": {},
   "source": [
    "### PART D\n",
    "\n",
    "ADF Test for Log GDP. The ADF test is formulated and in Python you can print out the model results as seen below."
   ]
  },
  {
   "cell_type": "code",
   "execution_count": 32,
   "metadata": {
    "collapsed": false
   },
   "outputs": [
    {
     "name": "stdout",
     "output_type": "stream",
     "text": [
      "ADF Test \n",
      "\n",
      "Statistic : -2.51821089277 ,  P-value : 0.318918118592 \n",
      "\n",
      "Confidence Levels : {'5%': -3.4290999471622556, '1%': -3.9973200578432064, '10%': -3.1379848180498104} \n",
      "\n",
      "Model \n",
      "\n",
      "                  Results: Ordinary least squares\n",
      "===================================================================\n",
      "Model:              OLS              Adj. R-squared:     0.393     \n",
      "Dependent Variable: y                AIC:                -1888.3395\n",
      "Date:               2017-03-08 12:05 BIC:                -1874.4504\n",
      "No. Observations:   238              Log-Likelihood:     948.17    \n",
      "Df Model:           3                F-statistic:        52.20     \n",
      "Df Residuals:       234              Prob (F-statistic): 7.23e-26  \n",
      "R-squared:          0.401            Scale:              2.0630e-05\n",
      "-------------------------------------------------------------------\n",
      "                     Coef.  Std.Err.    t    P>|t|   [0.025  0.975]\n",
      "-------------------------------------------------------------------\n",
      "LOG GDP lag1        -0.0204   0.0081 -2.5182 0.0125 -0.0364 -0.0044\n",
      "Diff LOG GDP lag1    0.6325   0.0509 12.4338 0.0000  0.5323  0.7328\n",
      "Constant             0.0956   0.0375  2.5512 0.0114  0.0218  0.1695\n",
      "Trend                0.0001   0.0000  2.4979 0.0132  0.0000  0.0001\n",
      "-------------------------------------------------------------------\n",
      "Omnibus:              23.009        Durbin-Watson:           2.012 \n",
      "Prob(Omnibus):        0.000         Jarque-Bera (JB):        36.479\n",
      "Skew:                 0.578         Prob(JB):                0.000 \n",
      "Kurtosis:             4.530         Condition No.:           23965 \n",
      "===================================================================\n",
      "* The condition number is large (2e+04). This might indicate\n",
      "strong multicollinearity or other numerical problems.\n"
     ]
    }
   ],
   "source": [
    "x = full[['LOGGDP']]\n",
    "xD = x[(x.index>=start)&(x.index<=end)]\n",
    "\n",
    "loggdp_ADF = sma.tsa.stattools.adfuller(xD['LOGGDP'], maxlag=1, \n",
    "                                        autolag=None, regression='ct',\n",
    "                                        regresults=True) #c for constant only, no trend\n",
    "print('ADF Test \\n')\n",
    "print('Statistic :', loggdp_ADF[0], ',  P-value :', loggdp_ADF[1],'\\n')\n",
    "print('Confidence Levels :', loggdp_ADF[2], '\\n')\n",
    "print('Model \\n')\n",
    "print(loggdp_ADF[3].resols.summary2(xname=['LOG GDP lag1','Diff LOG GDP lag1','Constant','Trend']))\n",
    "### CONFIRMED THE ORDER OF CONST TREND"
   ]
  },
  {
   "cell_type": "markdown",
   "metadata": {},
   "source": [
    "__(d)__:\n",
    "\n",
    "__The coefficient value for LOG GDP at 1 Lag is $-0.0204 $ and the subsequent p-value is $0.0125 $ which is significant to the 5% level. I do not think this is a necessary statistic to point out but it was in previous tests.__\n",
    "\n",
    "__Based on the output listed above using the statsmodels ADF test, the test statistic is $-2.518 $ and its corresponding p-value is $0.3189 $. It is very far right of even the 10% confidence level and would thus imply that we cannot reject H0 and the variable is NOT stationary.__"
   ]
  },
  {
   "cell_type": "markdown",
   "metadata": {},
   "source": [
    "### PART E\n",
    "\n",
    "Modeling the Growth Rate at 1 Lag with varying lags of the First and Second Leading Indicators. Only the R Squares from the models are presented."
   ]
  },
  {
   "cell_type": "code",
   "execution_count": 23,
   "metadata": {
    "collapsed": false
   },
   "outputs": [
    {
     "data": {
      "text/html": [
       "<div>\n",
       "<table border=\"1\" class=\"dataframe\">\n",
       "  <thead>\n",
       "    <tr style=\"text-align: right;\">\n",
       "      <th></th>\n",
       "      <th>R Squares</th>\n",
       "    </tr>\n",
       "  </thead>\n",
       "  <tbody>\n",
       "    <tr>\n",
       "      <th>mod11</th>\n",
       "      <td>0.507975</td>\n",
       "    </tr>\n",
       "    <tr>\n",
       "      <th>mod12</th>\n",
       "      <td>0.477193</td>\n",
       "    </tr>\n",
       "    <tr>\n",
       "      <th>mod21</th>\n",
       "      <td>0.507665</td>\n",
       "    </tr>\n",
       "    <tr>\n",
       "      <th>mod22</th>\n",
       "      <td>0.477130</td>\n",
       "    </tr>\n",
       "  </tbody>\n",
       "</table>\n",
       "</div>"
      ],
      "text/plain": [
       "       R Squares\n",
       "mod11   0.507975\n",
       "mod12   0.477193\n",
       "mod21   0.507665\n",
       "mod22   0.477130"
      ]
     },
     "execution_count": 23,
     "metadata": {},
     "output_type": "execute_result"
    }
   ],
   "source": [
    "x1 = full[['GrowthRate(-1)','li1(-1)','li2(-1)']]\n",
    "x11 = x1[(x1.index>=start)&(x1.index<=end)]\n",
    "\n",
    "x2 = full[['GrowthRate(-1)','li1(-2)','li2(-1)']]\n",
    "x12 = x2[(x2.index>=start)&(x2.index<=end)]\n",
    "\n",
    "x3 = full[['GrowthRate(-1)','li1(-1)','li2(-2)']]\n",
    "x21 = x3[(x3.index>=start)&(x3.index<=end)]\n",
    "\n",
    "x4 = full[['GrowthRate(-1)','li1(-2)','li2(-2)']]\n",
    "x22 = x4[(x4.index>=start)&(x4.index<=end)]\n",
    "\n",
    "y1 = full[['GrowthRate']]\n",
    "y11 = y1[(y1.index>=start)&(y1.index<=end)]\n",
    "y12 = y11.copy()\n",
    "y21 = y11.copy()\n",
    "y22 = y11.copy()\n",
    "\n",
    "modE11 = sma.OLS(endog=y11, exog=sma.add_constant(x11)).fit()\n",
    "modE12 = sma.OLS(endog=y12, exog=sma.add_constant(x12)).fit()\n",
    "modE21 = sma.OLS(endog=y21, exog=sma.add_constant(x21)).fit()\n",
    "modE22 = sma.OLS(endog=y22, exog=sma.add_constant(x22)).fit()\n",
    "\n",
    "r2 = pd.DataFrame([modE11.rsquared, modE12.rsquared, modE21.rsquared, modE22.rsquared])\n",
    "r2.index = ['mod11','mod12','mod21','mod22']\n",
    "r2.columns = ['R Squares']\n",
    "r2"
   ]
  },
  {
   "cell_type": "code",
   "execution_count": 24,
   "metadata": {
    "collapsed": false
   },
   "outputs": [
    {
     "data": {
      "text/html": [
       "<div>\n",
       "<table border=\"1\" class=\"dataframe\">\n",
       "  <thead>\n",
       "    <tr style=\"text-align: right;\">\n",
       "      <th></th>\n",
       "      <th>Coefficients of Model k1=k2=1</th>\n",
       "    </tr>\n",
       "  </thead>\n",
       "  <tbody>\n",
       "    <tr>\n",
       "      <th>const</th>\n",
       "      <td>0.001737</td>\n",
       "    </tr>\n",
       "    <tr>\n",
       "      <th>GrowthRate(-1)</th>\n",
       "      <td>0.461579</td>\n",
       "    </tr>\n",
       "    <tr>\n",
       "      <th>li1(-1)</th>\n",
       "      <td>-0.001023</td>\n",
       "    </tr>\n",
       "    <tr>\n",
       "      <th>li2(-1)</th>\n",
       "      <td>-0.000149</td>\n",
       "    </tr>\n",
       "  </tbody>\n",
       "</table>\n",
       "</div>"
      ],
      "text/plain": [
       "                Coefficients of Model k1=k2=1\n",
       "const                                0.001737\n",
       "GrowthRate(-1)                       0.461579\n",
       "li1(-1)                             -0.001023\n",
       "li2(-1)                             -0.000149"
      ]
     },
     "execution_count": 24,
     "metadata": {},
     "output_type": "execute_result"
    }
   ],
   "source": [
    "modE11Coefs = pd.DataFrame(modE11.params, \n",
    "                           columns=['Coefficients of Model k1=k2=1'])\n",
    "modE11Coefs"
   ]
  },
  {
   "cell_type": "markdown",
   "metadata": {},
   "source": [
    "__(e)__:\n",
    "\n",
    "__The results above show the best R2 is indeed $0.5079 $ for the model where $ k1 = k2 = 1 $  ( Mod11 ) barely beating out Mod21. The coefficients are then listed below that where the Growth Rate lagged variable has a coefficient of $ 0.461579 $. Such a large value in comparison to the other coefficients might indicate that we have a mispecification in our model.__"
   ]
  },
  {
   "cell_type": "markdown",
   "metadata": {},
   "source": [
    "### PART F\n",
    "\n",
    "Breusch Godfrey Test to examine the lag structure and see if the model was misspecified."
   ]
  },
  {
   "cell_type": "code",
   "execution_count": 25,
   "metadata": {
    "collapsed": false,
    "scrolled": false
   },
   "outputs": [
    {
     "data": {
      "text/html": [
       "<div>\n",
       "<table border=\"1\" class=\"dataframe\">\n",
       "  <thead>\n",
       "    <tr style=\"text-align: right;\">\n",
       "      <th></th>\n",
       "      <th>LM Stat</th>\n",
       "      <th>LM p-val</th>\n",
       "      <th>Fvalue</th>\n",
       "      <th>Fval:p-val</th>\n",
       "    </tr>\n",
       "  </thead>\n",
       "  <tbody>\n",
       "    <tr>\n",
       "      <th>BG Test for Model k1=k2=1</th>\n",
       "      <td>0.230366</td>\n",
       "      <td>0.631253</td>\n",
       "      <td>0.225783</td>\n",
       "      <td>0.63511</td>\n",
       "    </tr>\n",
       "  </tbody>\n",
       "</table>\n",
       "</div>"
      ],
      "text/plain": [
       "                            LM Stat  LM p-val    Fvalue  Fval:p-val\n",
       "BG Test for Model k1=k2=1  0.230366  0.631253  0.225783     0.63511"
      ]
     },
     "execution_count": 25,
     "metadata": {},
     "output_type": "execute_result"
    }
   ],
   "source": [
    "bgall = sms.diagnostic.acorr_breush_godfrey(modE11, nlags=1, store=True)\n",
    "bg = bgall[0:4]\n",
    "modE11_BG = pd.DataFrame(np.reshape(np.array(bg),(1,4)), \n",
    "                         columns=['LM Stat','LM p-val','Fvalue','Fval:p-val'],\n",
    "                        index=['BG Test for Model k1=k2=1'])\n",
    "modE11_BG"
   ]
  },
  {
   "cell_type": "markdown",
   "metadata": {},
   "source": [
    "__(f)__:\n",
    "\n",
    "__The Breusch Godfrey test for the model where $ k1=k2=1 $ at 1 Lag shows a high p-value for the test statistic of $ 0.230366 $. This test has H0 that there is no serial correlation and with a low p-value we reject the Null. Thus with a p-value of $ 0.631253 $ we cannot reject the null and there is no serial correlation.__"
   ]
  },
  {
   "cell_type": "markdown",
   "metadata": {},
   "source": [
    "### PART G\n",
    "\n",
    "Forecast for the Growth Rate."
   ]
  },
  {
   "cell_type": "code",
   "execution_count": 26,
   "metadata": {
    "collapsed": false
   },
   "outputs": [],
   "source": [
    "x = full[['GrowthRate(-1)','li1(-1)','li2(-1)']]\n",
    "xG = x[x.index>end]\n",
    "xGR = pd.DataFrame(full[full.index>end]['GrowthRate'])\n",
    "\n",
    "predG = modE11.predict(sma.add_constant(xG))\n",
    "\n",
    "predGdf = pd.DataFrame(predG, index=xG.index)\n",
    "outDf = pd.concat([predGdf, xGR], axis=1, join='outer')\n",
    "outDf.columns = ['Prediction','Actual']"
   ]
  },
  {
   "cell_type": "code",
   "execution_count": 28,
   "metadata": {
    "collapsed": false
   },
   "outputs": [
    {
     "data": {
      "text/plain": [
       "<matplotlib.axes._subplots.AxesSubplot at 0xb599710>"
      ]
     },
     "execution_count": 28,
     "metadata": {},
     "output_type": "execute_result"
    },
    {
     "data": {
      "image/png": "[encoded data removed]",
      "text/plain": [
       "<matplotlib.figure.Figure at 0xb1e07b8>"
      ]
     },
     "metadata": {},
     "output_type": "display_data"
    }
   ],
   "source": [
    "fig2, ax=subplots(1,1,figsize=(12,6))\n",
    "outDf.plot(ax=ax, title='Growth Rate Examination')"
   ]
  },
  {
   "cell_type": "code",
   "execution_count": 29,
   "metadata": {
    "collapsed": false
   },
   "outputs": [
    {
     "name": "stdout",
     "output_type": "stream",
     "text": [
      "FIT G  :  RMSE  \\  MAE  =  0.00315576342885   \\   0.0528065895385 \n",
      "\n"
     ]
    }
   ],
   "source": [
    "maeG = np.sum(np.absolute(predGdf.values-xGR.values))\n",
    "rmseG = np.sqrt(((predGdf.values-xGR.values) ** 2).mean())\n",
    "print \"FIT G  :  RMSE  \\  MAE  = \", rmseG, \"  \\  \", maeG, \"\\n\""
   ]
  },
  {
   "cell_type": "markdown",
   "metadata": {},
   "source": [
    "__(g)__:\n",
    "\n",
    "__The above is the time series representation of the prediction and actuals over the 'evaluation' period. The RMSE is $ 0.003156 $ and the MAE is $ 0.0528 $.__\n",
    "\n",
    "__The prediction is significantly smoother than the actuals which is to be expected and based on appearance and error the prediction model fits the actuals very well.__"
   ]
  },
  {
   "cell_type": "code",
   "execution_count": 72,
   "metadata": {
    "collapsed": false
   },
   "outputs": [
    {
     "data": {
      "text/html": [
       "<script>\n",
       "code_show=true; \n",
       "function code_toggle() {\n",
       " if (code_show){\n",
       " $('div.input').hide();\n",
       " } else {\n",
       " $('div.input').show();\n",
       " }\n",
       " code_show = !code_show\n",
       "} \n",
       "$( document ).ready(code_toggle);\n",
       "</script>\n",
       "<a href=\"javascript:code_toggle()\">Toggle Code</a>."
      ],
      "text/plain": [
       "<IPython.core.display.HTML object>"
      ]
     },
     "execution_count": 72,
     "metadata": {},
     "output_type": "execute_result"
    }
   ],
   "source": [
    "from dfast.jupyterutils.togglecode import hideCode\n",
    "hideCode()"
   ]
  },
  {
   "cell_type": "code",
   "execution_count": null,
   "metadata": {
    "collapsed": true
   },
   "outputs": [],
   "source": []
  }
 ],
 "metadata": {
  "kernelspec": {
   "display_name": "Python 3",
   "language": "python",
   "name": "python3"
  },
  "language_info": {
   "codemirror_mode": {
    "name": "ipython",
    "version": 3
   },
   "file_extension": ".py",
   "mimetype": "text/x-python",
   "name": "python",
   "nbconvert_exporter": "python",
   "pygments_lexer": "ipython3",
   "version": "3.6.0"
  }
 },
 "nbformat": 4,
 "nbformat_minor": 2
}
